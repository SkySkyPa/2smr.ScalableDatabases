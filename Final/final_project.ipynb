{
 "cells": [
  {
   "cell_type": "code",
   "execution_count": 1,
   "outputs": [],
   "source": [
    "import pandas as pd\n",
    "import numpy as np\n",
    "import plotly.express as px\n",
    "import seaborn as sns"
   ],
   "metadata": {
    "collapsed": false,
    "pycharm": {
     "name": "#%%\n"
    }
   }
  },
  {
   "cell_type": "code",
   "execution_count": 2,
   "outputs": [
    {
     "name": "stdout",
     "output_type": "stream",
     "text": [
      "Rows and Columns: (2340, 7)\n"
     ]
    },
    {
     "data": {
      "text/plain": "     typeofaction  sourceid  destinationid  amountofmoney  \\\n0         cash-in     30105          28942         494528   \n1         cash-in     30105           8692         494528   \n2         cash-in     30105          60094         494528   \n3         cash-in     30105          20575         494528   \n4         cash-in     30105          45938         494528   \n...           ...       ...            ...            ...   \n2335     transfer     14945          43793         106907   \n2336     transfer      9532          43793         106907   \n2337     transfer     27332          43793         106907   \n2338     transfer     32685          43793         106907   \n2339     transfer     26390          43793         106907   \n\n                     date  isfraud typeoffraud  \n0     2019-07-19 14:40:00        1       type1  \n1     2019-05-17 14:57:00        1       type1  \n2     2019-07-20 13:20:00        1       type1  \n3     2019-07-03 14:15:00        1       type1  \n4     2019-05-26 10:40:00        1       type1  \n...                   ...      ...         ...  \n2335  2019-03-29 14:53:00        0        none  \n2336  2019-04-13 13:19:00        0        none  \n2337  2019-05-10 09:34:00        0        none  \n2338  2019-07-08 12:20:00        0        none  \n2339  2019-03-25 13:52:00        0        none  \n\n[2340 rows x 7 columns]",
      "text/html": "<div>\n<style scoped>\n    .dataframe tbody tr th:only-of-type {\n        vertical-align: middle;\n    }\n\n    .dataframe tbody tr th {\n        vertical-align: top;\n    }\n\n    .dataframe thead th {\n        text-align: right;\n    }\n</style>\n<table border=\"1\" class=\"dataframe\">\n  <thead>\n    <tr style=\"text-align: right;\">\n      <th></th>\n      <th>typeofaction</th>\n      <th>sourceid</th>\n      <th>destinationid</th>\n      <th>amountofmoney</th>\n      <th>date</th>\n      <th>isfraud</th>\n      <th>typeoffraud</th>\n    </tr>\n  </thead>\n  <tbody>\n    <tr>\n      <th>0</th>\n      <td>cash-in</td>\n      <td>30105</td>\n      <td>28942</td>\n      <td>494528</td>\n      <td>2019-07-19 14:40:00</td>\n      <td>1</td>\n      <td>type1</td>\n    </tr>\n    <tr>\n      <th>1</th>\n      <td>cash-in</td>\n      <td>30105</td>\n      <td>8692</td>\n      <td>494528</td>\n      <td>2019-05-17 14:57:00</td>\n      <td>1</td>\n      <td>type1</td>\n    </tr>\n    <tr>\n      <th>2</th>\n      <td>cash-in</td>\n      <td>30105</td>\n      <td>60094</td>\n      <td>494528</td>\n      <td>2019-07-20 13:20:00</td>\n      <td>1</td>\n      <td>type1</td>\n    </tr>\n    <tr>\n      <th>3</th>\n      <td>cash-in</td>\n      <td>30105</td>\n      <td>20575</td>\n      <td>494528</td>\n      <td>2019-07-03 14:15:00</td>\n      <td>1</td>\n      <td>type1</td>\n    </tr>\n    <tr>\n      <th>4</th>\n      <td>cash-in</td>\n      <td>30105</td>\n      <td>45938</td>\n      <td>494528</td>\n      <td>2019-05-26 10:40:00</td>\n      <td>1</td>\n      <td>type1</td>\n    </tr>\n    <tr>\n      <th>...</th>\n      <td>...</td>\n      <td>...</td>\n      <td>...</td>\n      <td>...</td>\n      <td>...</td>\n      <td>...</td>\n      <td>...</td>\n    </tr>\n    <tr>\n      <th>2335</th>\n      <td>transfer</td>\n      <td>14945</td>\n      <td>43793</td>\n      <td>106907</td>\n      <td>2019-03-29 14:53:00</td>\n      <td>0</td>\n      <td>none</td>\n    </tr>\n    <tr>\n      <th>2336</th>\n      <td>transfer</td>\n      <td>9532</td>\n      <td>43793</td>\n      <td>106907</td>\n      <td>2019-04-13 13:19:00</td>\n      <td>0</td>\n      <td>none</td>\n    </tr>\n    <tr>\n      <th>2337</th>\n      <td>transfer</td>\n      <td>27332</td>\n      <td>43793</td>\n      <td>106907</td>\n      <td>2019-05-10 09:34:00</td>\n      <td>0</td>\n      <td>none</td>\n    </tr>\n    <tr>\n      <th>2338</th>\n      <td>transfer</td>\n      <td>32685</td>\n      <td>43793</td>\n      <td>106907</td>\n      <td>2019-07-08 12:20:00</td>\n      <td>0</td>\n      <td>none</td>\n    </tr>\n    <tr>\n      <th>2339</th>\n      <td>transfer</td>\n      <td>26390</td>\n      <td>43793</td>\n      <td>106907</td>\n      <td>2019-03-25 13:52:00</td>\n      <td>0</td>\n      <td>none</td>\n    </tr>\n  </tbody>\n</table>\n<p>2340 rows × 7 columns</p>\n</div>"
     },
     "execution_count": 2,
     "metadata": {},
     "output_type": "execute_result"
    }
   ],
   "source": [
    "df = pd.read_csv('ML.csv')\n",
    "print('Rows and Columns:', df.shape)\n",
    "df"
   ],
   "metadata": {
    "collapsed": false,
    "pycharm": {
     "name": "#%%\n"
    }
   }
  },
  {
   "cell_type": "code",
   "execution_count": 3,
   "outputs": [
    {
     "data": {
      "text/plain": "            sourceid  destinationid  amountofmoney      isfraud\ncount    2340.000000    2340.000000   2.340000e+03  2340.000000\nmean    49111.255128   52257.918803   2.508583e+06     0.597863\nstd     29614.440603   28988.847246   2.560434e+06     0.490434\nmin        61.000000      53.000000   1.333200e+04     0.000000\n25%     24033.000000   28046.000000   3.359140e+05     0.000000\n50%     46632.500000   52748.500000   1.162354e+06     1.000000\n75%     75107.000000   78030.000000   4.686559e+06     1.000000\nmax    100000.000000   99950.000000   7.952497e+06     1.000000",
      "text/html": "<div>\n<style scoped>\n    .dataframe tbody tr th:only-of-type {\n        vertical-align: middle;\n    }\n\n    .dataframe tbody tr th {\n        vertical-align: top;\n    }\n\n    .dataframe thead th {\n        text-align: right;\n    }\n</style>\n<table border=\"1\" class=\"dataframe\">\n  <thead>\n    <tr style=\"text-align: right;\">\n      <th></th>\n      <th>sourceid</th>\n      <th>destinationid</th>\n      <th>amountofmoney</th>\n      <th>isfraud</th>\n    </tr>\n  </thead>\n  <tbody>\n    <tr>\n      <th>count</th>\n      <td>2340.000000</td>\n      <td>2340.000000</td>\n      <td>2.340000e+03</td>\n      <td>2340.000000</td>\n    </tr>\n    <tr>\n      <th>mean</th>\n      <td>49111.255128</td>\n      <td>52257.918803</td>\n      <td>2.508583e+06</td>\n      <td>0.597863</td>\n    </tr>\n    <tr>\n      <th>std</th>\n      <td>29614.440603</td>\n      <td>28988.847246</td>\n      <td>2.560434e+06</td>\n      <td>0.490434</td>\n    </tr>\n    <tr>\n      <th>min</th>\n      <td>61.000000</td>\n      <td>53.000000</td>\n      <td>1.333200e+04</td>\n      <td>0.000000</td>\n    </tr>\n    <tr>\n      <th>25%</th>\n      <td>24033.000000</td>\n      <td>28046.000000</td>\n      <td>3.359140e+05</td>\n      <td>0.000000</td>\n    </tr>\n    <tr>\n      <th>50%</th>\n      <td>46632.500000</td>\n      <td>52748.500000</td>\n      <td>1.162354e+06</td>\n      <td>1.000000</td>\n    </tr>\n    <tr>\n      <th>75%</th>\n      <td>75107.000000</td>\n      <td>78030.000000</td>\n      <td>4.686559e+06</td>\n      <td>1.000000</td>\n    </tr>\n    <tr>\n      <th>max</th>\n      <td>100000.000000</td>\n      <td>99950.000000</td>\n      <td>7.952497e+06</td>\n      <td>1.000000</td>\n    </tr>\n  </tbody>\n</table>\n</div>"
     },
     "execution_count": 3,
     "metadata": {},
     "output_type": "execute_result"
    }
   ],
   "source": [
    "df.describe()"
   ],
   "metadata": {
    "collapsed": false,
    "pycharm": {
     "name": "#%%\n"
    }
   }
  },
  {
   "cell_type": "code",
   "execution_count": 4,
   "outputs": [
    {
     "name": "stdout",
     "output_type": "stream",
     "text": [
      "determine if value in series missing:  False \n",
      "       \n",
      "typeofaction     0\n",
      "sourceid         0\n",
      "destinationid    0\n",
      "amountofmoney    0\n",
      "date             0\n",
      "isfraud          0\n",
      "typeoffraud      0\n",
      "dtype: int64\n"
     ]
    }
   ],
   "source": [
    "print('determine if value in series missing: ',df.isnull().values.any(),'''\n",
    "       ''') # determine if value in series missing\n",
    "\n",
    "print(df.isnull().sum()) # how many missing values"
   ],
   "metadata": {
    "collapsed": false,
    "pycharm": {
     "name": "#%%\n"
    }
   }
  },
  {
   "cell_type": "markdown",
   "source": [
    "https://neo4j.com/blog/combating-money-laundering-aml-graph-algorithms/#:~:text=Neo4j%20provides%20an%20advanced%2C%20extensible,costs%20and%20protecting%20brand%20value.\n",
    "\n",
    "* One of the best databases to fight again money laundry"
   ],
   "metadata": {
    "collapsed": false,
    "pycharm": {
     "name": "#%% md\n"
    }
   }
  },
  {
   "cell_type": "code",
   "execution_count": 5,
   "outputs": [
    {
     "name": "stdout",
     "output_type": "stream",
     "text": [
      "<class 'pandas.core.frame.DataFrame'>\n",
      "RangeIndex: 2340 entries, 0 to 2339\n",
      "Data columns (total 7 columns):\n",
      " #   Column         Non-Null Count  Dtype         \n",
      "---  ------         --------------  -----         \n",
      " 0   typeofaction   2340 non-null   object        \n",
      " 1   sourceid       2340 non-null   int64         \n",
      " 2   destinationid  2340 non-null   int64         \n",
      " 3   amountofmoney  2340 non-null   int64         \n",
      " 4   date           2340 non-null   datetime64[ns]\n",
      " 5   isfraud        2340 non-null   int64         \n",
      " 6   typeoffraud    2340 non-null   object        \n",
      "dtypes: datetime64[ns](1), int64(4), object(2)\n",
      "memory usage: 128.1+ KB\n"
     ]
    }
   ],
   "source": [
    "df['date'] = pd.to_datetime(df.date)\n",
    "df.info()"
   ],
   "metadata": {
    "collapsed": false,
    "pycharm": {
     "name": "#%%\n"
    }
   }
  },
  {
   "cell_type": "code",
   "execution_count": 6,
   "outputs": [],
   "source": [
    "df.to_csv('ReadyWork.csv')"
   ],
   "metadata": {
    "collapsed": false,
    "pycharm": {
     "name": "#%%\n"
    }
   }
  }
 ],
 "metadata": {
  "kernelspec": {
   "display_name": "Python 3",
   "language": "python",
   "name": "python3"
  },
  "language_info": {
   "codemirror_mode": {
    "name": "ipython",
    "version": 2
   },
   "file_extension": ".py",
   "mimetype": "text/x-python",
   "name": "python",
   "nbconvert_exporter": "python",
   "pygments_lexer": "ipython2",
   "version": "2.7.6"
  }
 },
 "nbformat": 4,
 "nbformat_minor": 0
}