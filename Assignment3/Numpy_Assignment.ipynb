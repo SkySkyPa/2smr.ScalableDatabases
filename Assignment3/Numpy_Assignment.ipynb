{
 "nbformat": 4,
 "nbformat_minor": 0,
 "metadata": {
  "colab": {
   "provenance": [],
   "collapsed_sections": []
  },
  "kernelspec": {
   "name": "python3",
   "display_name": "Python 3"
  },
  "language_info": {
   "name": "python"
  }
 },
 "cells": [
  {
   "cell_type": "markdown",
   "source": [
    "## Assignment : NumPy\n",
    "Total Points : 50\n",
    "\n",
    "    Note : You can use images of your choice."
   ],
   "metadata": {
    "id": "gOY7o61r2Itd",
    "pycharm": {
     "name": "#%% md\n"
    }
   }
  },
  {
   "cell_type": "markdown",
   "source": [
    "##Question #1 \n",
    "Points : 10\n",
    "\n",
    "\n",
    "    Read about cv2 libraray and write dowm your understanding and different fucntion you think you can use.\n",
    "\n",
    "    https://pypi.org/project/opencv-python/"
   ],
   "metadata": {
    "id": "QMY2sOb82Q7E",
    "pycharm": {
     "name": "#%% md\n"
    }
   }
  },
  {
   "cell_type": "markdown",
   "source": [
    "Answer : OpenCV is a library for analysis of videos and images,\n",
    "introduced by INTEL several years ago.\n",
    "It has more than 2500 optimized alghorithms.\n",
    "\n",
    "cv2.imread(\"geeksforgeeks.png\", cv2.IMREAD_COLOR) - reading file, creating gui for image\n",
    "cv2.imshow(\"image\", img) - show image file"
   ],
   "metadata": {
    "id": "Xb1ZM0w73B8s",
    "pycharm": {
     "name": "#%% md\n"
    }
   }
  },
  {
   "cell_type": "markdown",
   "source": [
    "##Question #2\n",
    "Points: 10\n",
    "Below code reads the image and converts it to array using NumPy library.\n",
    "\n",
    "Perform the following actions.\n",
    "\n",
    "    1 - read two images and reshape 120,120, lets call the images as image1 and image2  - 0 Points\n",
    "    2 - Create an array of 1's same size as your image1 and add it to image1 - 2.5 points\n",
    "    3- create an array of 0's of same size as your image2 and add it to image 2 - 2.5 points\n",
    "    4 - concatinate both images - 2.5 Ponts\n",
    "    5 - devide the step 4 image by 255 - 2.5 points\n",
    "    \n"
   ],
   "metadata": {
    "id": "P9MsKJw93Kvv",
    "pycharm": {
     "name": "#%% md\n"
    }
   }
  },
  {
   "cell_type": "code",
   "execution_count": 1,
   "outputs": [],
   "source": [
    "import numpy as np\n",
    "import cv2\n",
    "import matplotlib.pyplot as plt\n",
    "import seaborn as sns"
   ],
   "metadata": {
    "collapsed": false,
    "pycharm": {
     "name": "#%%\n"
    }
   }
  },
  {
   "cell_type": "code",
   "source": [
    "image1 = cv2.imread('first.jpeg')\n",
    "res1 = cv2.resize(image1,(120,120))"
   ],
   "metadata": {
    "id": "RTDTnnR6xJTH",
    "pycharm": {
     "name": "#%%\n"
    }
   },
   "execution_count": 2,
   "outputs": [
    {
     "name": "stderr",
     "output_type": "stream",
     "text": [
      "[ WARN:0@0.008] global /Users/xperience/actions-runner/_work/opencv-python/opencv-python/opencv/modules/imgcodecs/src/loadsave.cpp (239) findDecoder imread_('first.jpeg'): can't open/read file: check file path/integrity\n"
     ]
    },
    {
     "ename": "error",
     "evalue": "OpenCV(4.6.0) /Users/xperience/actions-runner/_work/opencv-python/opencv-python/opencv/modules/imgproc/src/resize.cpp:4052: error: (-215:Assertion failed) !ssize.empty() in function 'resize'\n",
     "output_type": "error",
     "traceback": [
      "\u001B[0;31m---------------------------------------------------------------------------\u001B[0m",
      "\u001B[0;31merror\u001B[0m                                     Traceback (most recent call last)",
      "Cell \u001B[0;32mIn [2], line 2\u001B[0m\n\u001B[1;32m      1\u001B[0m image1 \u001B[38;5;241m=\u001B[39m cv2\u001B[38;5;241m.\u001B[39mimread(\u001B[38;5;124m'\u001B[39m\u001B[38;5;124mfirst.jpeg\u001B[39m\u001B[38;5;124m'\u001B[39m)\n\u001B[0;32m----> 2\u001B[0m res1 \u001B[38;5;241m=\u001B[39m \u001B[43mcv2\u001B[49m\u001B[38;5;241;43m.\u001B[39;49m\u001B[43mresize\u001B[49m\u001B[43m(\u001B[49m\u001B[43mimage1\u001B[49m\u001B[43m,\u001B[49m\u001B[43m(\u001B[49m\u001B[38;5;241;43m120\u001B[39;49m\u001B[43m,\u001B[49m\u001B[38;5;241;43m120\u001B[39;49m\u001B[43m)\u001B[49m\u001B[43m)\u001B[49m\n",
      "\u001B[0;31merror\u001B[0m: OpenCV(4.6.0) /Users/xperience/actions-runner/_work/opencv-python/opencv-python/opencv/modules/imgproc/src/resize.cpp:4052: error: (-215:Assertion failed) !ssize.empty() in function 'resize'\n"
     ]
    }
   ]
  },
  {
   "cell_type": "code",
   "source": [
    "res1"
   ],
   "metadata": {
    "id": "4eZI5G_nxPKS",
    "pycharm": {
     "name": "#%%\n"
    }
   },
   "execution_count": null,
   "outputs": []
  },
  {
   "cell_type": "code",
   "source": [
    "image2 = cv2.imread('second.jpeg')\n",
    "res2 = cv2.resize(image2, dsize=(120,120))"
   ],
   "metadata": {
    "id": "5tD_7o4gxSWv",
    "pycharm": {
     "name": "#%%\n"
    }
   },
   "execution_count": null,
   "outputs": []
  },
  {
   "cell_type": "code",
   "execution_count": null,
   "outputs": [],
   "source": [
    "res2"
   ],
   "metadata": {
    "collapsed": false,
    "pycharm": {
     "name": "#%%\n"
    }
   }
  },
  {
   "cell_type": "code",
   "execution_count": null,
   "outputs": [],
   "source": [
    "#2\n",
    "a1 = [ 1, 1, 1]\n",
    "image11 = a1 + image1"
   ],
   "metadata": {
    "collapsed": false,
    "pycharm": {
     "name": "#%%\n"
    }
   }
  },
  {
   "cell_type": "code",
   "execution_count": null,
   "outputs": [],
   "source": [
    "#3\n",
    "a2 = [ 0, 0, 0]\n",
    "image22 = a2 + image2"
   ],
   "metadata": {
    "collapsed": false,
    "pycharm": {
     "name": "#%%\n"
    }
   }
  },
  {
   "cell_type": "code",
   "execution_count": null,
   "outputs": [],
   "source": [
    "#4\n",
    "im_h = cv2.hconcat([image11, image22])\n",
    "cv2.imshow('bothimages.jpeg', im_h)"
   ],
   "metadata": {
    "collapsed": false,
    "pycharm": {
     "name": "#%%\n"
    }
   }
  },
  {
   "cell_type": "code",
   "execution_count": null,
   "outputs": [],
   "source": [
    "#5\n",
    "imby255 = im_h/255\n",
    "\n",
    "plt.figure(figsize=(30,30))\n",
    "sns.heatmap(imby255, annot= True, cmap=\"binary\")"
   ],
   "metadata": {
    "collapsed": false,
    "pycharm": {
     "name": "#%%\n"
    }
   }
  },
  {
   "cell_type": "markdown",
   "source": [
    "##Question # 3 \n",
    "Points :10\n",
    "\n",
    "    1 - Slice the image into 50x50\n",
    "    2 - save the image and load the image\n"
   ],
   "metadata": {
    "id": "IBx6HQyS2CW1",
    "pycharm": {
     "name": "#%% md\n"
    }
   }
  },
  {
   "cell_type": "code",
   "source": [
    "#1\n",
    "image3 = cv2.imread('third.jpeg')\n",
    "res3 = cv2.resize(image3, dsize=(50,50))"
   ],
   "metadata": {
    "id": "fObyHwpB5aSQ",
    "pycharm": {
     "name": "#%%\n"
    }
   },
   "execution_count": null,
   "outputs": []
  },
  {
   "cell_type": "code",
   "execution_count": null,
   "outputs": [],
   "source": [
    "#2\n",
    "save = cv2.imwrite('save.png', res3)"
   ],
   "metadata": {
    "collapsed": false,
    "pycharm": {
     "name": "#%%\n"
    }
   }
  },
  {
   "cell_type": "markdown",
   "source": [
    "##Question #4\n",
    "Points: 10\n",
    "\n",
    "      1 - Perform statistical operations ( mean, median, etc)\n",
    "      2 - Performm arthemtical operations\n"
   ],
   "metadata": {
    "id": "XoUWJWg95ZOE",
    "pycharm": {
     "name": "#%% md\n"
    }
   }
  },
  {
   "cell_type": "code",
   "execution_count": null,
   "outputs": [],
   "source": [
    "a = np.array([[12, 45], [23, 12]])\n",
    "np.mean(a) # find mean"
   ],
   "metadata": {
    "collapsed": false,
    "pycharm": {
     "name": "#%%\n"
    }
   }
  },
  {
   "cell_type": "code",
   "execution_count": null,
   "outputs": [],
   "source": [
    "b = np.array([[12, 45, 14], [23, 12, 76]])\n",
    "np.median(a)"
   ],
   "metadata": {
    "collapsed": false,
    "pycharm": {
     "name": "#%%\n"
    }
   }
  },
  {
   "cell_type": "code",
   "execution_count": null,
   "outputs": [],
   "source": [
    "c = np.array([[67, 23], [7, 98]])\n",
    "np.std(a)"
   ],
   "metadata": {
    "collapsed": false,
    "pycharm": {
     "name": "#%%\n"
    }
   }
  },
  {
   "cell_type": "code",
   "execution_count": null,
   "outputs": [],
   "source": [
    "aandb = a + b # here we summarize to variables\n",
    "print(aandb)"
   ],
   "metadata": {
    "collapsed": false,
    "pycharm": {
     "name": "#%%\n"
    }
   }
  },
  {
   "cell_type": "code",
   "execution_count": null,
   "outputs": [],
   "source": [
    "np.exp(c) #Exponential"
   ],
   "metadata": {
    "collapsed": false,
    "pycharm": {
     "name": "#%%\n"
    }
   }
  },
  {
   "cell_type": "markdown",
   "source": [
    "## Question #5\n",
    "Points: 10 \n",
    "\n",
    "    1- Take 10 images store them in a folder and read them using for loop and convery them into numpy arrays.\n",
    "    2 - reshape all images to 120X120\n",
    "    3 - plot all images."
   ],
   "metadata": {
    "id": "dReC6pf755yN",
    "pycharm": {
     "name": "#%% md\n"
    }
   }
  },
  {
   "cell_type": "code",
   "execution_count": null,
   "outputs": [],
   "source": [
    "#1\n",
    "data = [ '1c.png', '2c.png', '3c.png', '4c.png', '5c.png',\n",
    "         '6c.png', '7c.png','8c.png', '9c.png','10c.png']\n",
    "\n",
    "dataneww = []\n",
    "for x in data:\n",
    "    imagee = cv2.imread(x)\n",
    "    dataneww.append(imagee)"
   ],
   "metadata": {
    "collapsed": false,
    "pycharm": {
     "name": "#%%\n"
    }
   }
  },
  {
   "cell_type": "code",
   "execution_count": null,
   "outputs": [],
   "source": [
    "#2\n",
    "dataneww = np.reshape(dataneww, (120, 120))"
   ],
   "metadata": {
    "collapsed": false,
    "pycharm": {
     "name": "#%%\n"
    }
   }
  },
  {
   "cell_type": "code",
   "execution_count": null,
   "outputs": [],
   "source": [
    "print(dataneww)"
   ],
   "metadata": {
    "collapsed": false,
    "pycharm": {
     "name": "#%%\n"
    }
   }
  }
 ]
}