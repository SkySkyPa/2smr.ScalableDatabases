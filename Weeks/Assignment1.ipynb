{
 "nbformat": 4,
 "nbformat_minor": 0,
 "metadata": {
  "anaconda-cloud": {},
  "kernelspec": {
   "display_name": "Python 3",
   "language": "python",
   "name": "python3"
  },
  "language_info": {
   "codemirror_mode": {
    "name": "ipython",
    "version": 3
   },
   "file_extension": ".py",
   "mimetype": "text/x-python",
   "name": "python",
   "nbconvert_exporter": "python",
   "pygments_lexer": "ipython3",
   "version": "3.6.6"
  },
  "colab": {
   "name": "CS673 Assignment #1.ipynb",
   "provenance": [],
   "collapsed_sections": []
  }
 },
 "cells": [
  {
   "cell_type": "markdown",
   "metadata": {
    "collapsed": true,
    "id": "S0hfOJqUcBY1",
    "pycharm": {
     "name": "#%% md\n"
    }
   },
   "source": [
    "##Assignment - 1\n",
    "\n",
    "**Answer the following questions, download the .ipynb file and submit the file.**\n",
    "* Name : Artur Bruev\n",
    "* Sesion : Fall 2022\n",
    "* CRN : 72804\n",
    "* Points: 100\n"
   ]
  },
  {
   "cell_type": "markdown",
   "metadata": {
    "collapsed": true,
    "id": "MABk3xshcBY2",
    "pycharm": {
     "name": "#%% md\n"
    }
   },
   "source": [
    "**Question#1**\n",
    "\n",
    "**Points:10**\n",
    "\n",
    "Write a brief description of all the following Object Types. To write the answers in below cell by double clicking on it."
   ]
  },
  {
   "cell_type": "markdown",
   "metadata": {
    "id": "aL0Du7xdcBY3",
    "pycharm": {
     "name": "#%% md\n"
    }
   },
   "source": [
    "Double Click HERE to edit this markdown cell and write answers.\n",
    "\n",
    "Numbers: integer and float,for whole number and part\n",
    "\n",
    "Strings:arrays of bytes representing unicode characters. \" \" or ' '\n",
    "\n",
    "Lists: collection which is ordered and changable [, ]\n",
    "\n",
    "Tuples: store multiple items in single variables ( , )\n",
    "\n",
    "Dictionaries: used to store key:value pairs {:,}\n"
   ]
  },
  {
   "cell_type": "markdown",
   "metadata": {
    "id": "MBFc54NpcBY5",
    "pycharm": {
     "name": "#%% md\n"
    }
   },
   "source": [
    "**Question#2**\n",
    "\n",
    "**Points:5**\n",
    "\n",
    "**Numbers**"
   ]
  },
  {
   "cell_type": "markdown",
   "metadata": {
    "id": "gYTUJwWUcBY8",
    "pycharm": {
     "name": "#%% md\n"
    }
   },
   "source": [
    "Answer these 3 questions type code to check your answer. In the below code cell.\n",
    "\n",
    "    What is the value of the expression 4 * (6 + 5)\n",
    "    \n",
    "    What is the value of the expression 4 * 6 + 5 \n",
    "    \n",
    "    What is the value of the expression 4 + 6 * 5 "
   ]
  },
  {
   "cell_type": "code",
   "metadata": {
    "collapsed": true,
    "id": "L4H_eoNrcBY8",
    "pycharm": {
     "name": "#%%\n"
    }
   },
   "source": [
    "a = 4 * (6 + 5)\n",
    "b = 4 * 6 + 5\n",
    "c = 4 + 6 * 5\n",
    "print(a, b, c)"
   ],
   "execution_count": 673,
   "outputs": [
    {
     "name": "stdout",
     "output_type": "stream",
     "text": [
      "44 29 34\n"
     ]
    }
   ]
  },
  {
   "cell_type": "markdown",
   "metadata": {
    "id": "2E2kZcZzcBY_",
    "pycharm": {
     "name": "#%% md\n"
    }
   },
   "source": [
    "**Question#3**\n",
    "\n",
    "**Points:10**\n",
    "\n",
    "**Strings**"
   ]
  },
  {
   "cell_type": "markdown",
   "metadata": {
    "id": "pqmtspH1cBZA",
    "pycharm": {
     "name": "#%% md\n"
    }
   },
   "source": [
    "Given the string 'Python Programming', with the help of index get 'm'. Enter your code in the cell below:"
   ]
  },
  {
   "cell_type": "code",
   "metadata": {
    "collapsed": true,
    "id": "F1DGfjF-cBZA",
    "pycharm": {
     "name": "#%%\n"
    }
   },
   "source": [
    "s = 'Python Programming'\n",
    "# Print out 'm' using indexing\n",
    "print(s[-4])\n",
    "print(s[-5])"
   ],
   "execution_count": 674,
   "outputs": [
    {
     "name": "stdout",
     "output_type": "stream",
     "text": [
      "m\n",
      "m\n"
     ]
    }
   ]
  },
  {
   "cell_type": "markdown",
   "metadata": {
    "id": "110A93MvcBZB",
    "pycharm": {
     "name": "#%% md\n"
    }
   },
   "source": [
    "Reverse the string 'Python Programming' using slicing:"
   ]
  },
  {
   "cell_type": "code",
   "metadata": {
    "collapsed": true,
    "id": "WP5iPKI8cBZB",
    "pycharm": {
     "name": "#%%\n"
    }
   },
   "source": [
    "s ='Python Programming'[::-1]\n",
    "# Reverse the string using slicing\n",
    "print(s)\n"
   ],
   "execution_count": 675,
   "outputs": [
    {
     "name": "stdout",
     "output_type": "stream",
     "text": [
      "gnimmargorP nohtyP\n"
     ]
    }
   ]
  },
  {
   "cell_type": "markdown",
   "metadata": {
    "id": "h9450vGScBZB",
    "pycharm": {
     "name": "#%% md\n"
    }
   },
   "source": [
    "Given the string \"Python Programming\", give two methods of producing the letter 'i' using indexing."
   ]
  },
  {
   "cell_type": "code",
   "metadata": {
    "collapsed": true,
    "id": "3IvgQWBOcBZC",
    "pycharm": {
     "name": "#%%\n"
    }
   },
   "source": [
    "s ='Python Programming'\n",
    "# Print out the 'i'\n",
    "print(s[-3], s[15]) # Method 1 and 2"
   ],
   "execution_count": 676,
   "outputs": [
    {
     "name": "stdout",
     "output_type": "stream",
     "text": [
      "i i\n"
     ]
    }
   ]
  },
  {
   "cell_type": "markdown",
   "metadata": {
    "id": "AI-9eMHpcBZD",
    "pycharm": {
     "name": "#%% md\n"
    }
   },
   "source": [
    "**Question#4**\n",
    "\n",
    "**Points:10**\n",
    "\n",
    "**Lists**"
   ]
  },
  {
   "cell_type": "markdown",
   "metadata": {
    "id": "_KiUBOztcBZD",
    "pycharm": {
     "name": "#%% md\n"
    }
   },
   "source": [
    "Build this list [0,0,0] two separate ways."
   ]
  },
  {
   "cell_type": "code",
   "metadata": {
    "collapsed": true,
    "id": "LKs_RnaZcBZE",
    "pycharm": {
     "name": "#%%\n"
    }
   },
   "source": [
    "# Method 1:\n",
    "my = [0, 0, 0]"
   ],
   "execution_count": 677,
   "outputs": []
  },
  {
   "cell_type": "code",
   "metadata": {
    "collapsed": true,
    "id": "--1hFUExcBZE",
    "pycharm": {
     "name": "#%%\n"
    }
   },
   "source": [
    "# Method 2:\n",
    "my2 = [0] * 3"
   ],
   "execution_count": 678,
   "outputs": []
  },
  {
   "cell_type": "markdown",
   "metadata": {
    "id": "i3GPSmiUcBZF",
    "pycharm": {
     "name": "#%% md\n"
    }
   },
   "source": [
    "Reassign 'hello' in this nested list to say 'goodbye' instead:"
   ]
  },
  {
   "cell_type": "code",
   "metadata": {
    "collapsed": true,
    "id": "nvLDLZNZcBZF",
    "pycharm": {
     "name": "#%%\n"
    }
   },
   "source": [
    "list3 = [1,2,[3,4,'hello']]\n",
    "list3[2][2] = 'goodbye'\n",
    "list3"
   ],
   "execution_count": 679,
   "outputs": [
    {
     "data": {
      "text/plain": "[1, 2, [3, 4, 'goodbye']]"
     },
     "execution_count": 679,
     "metadata": {},
     "output_type": "execute_result"
    }
   ]
  },
  {
   "cell_type": "markdown",
   "metadata": {
    "id": "-buyM2D9cBZF",
    "pycharm": {
     "name": "#%% md\n"
    }
   },
   "source": [
    "Sort the list below:"
   ]
  },
  {
   "cell_type": "code",
   "metadata": {
    "collapsed": true,
    "id": "6w_wMOBDcBZG",
    "pycharm": {
     "name": "#%%\n"
    }
   },
   "source": [
    "list4 = [5,3,4,6,1]\n",
    "list4.sort()\n",
    "list4"
   ],
   "execution_count": 680,
   "outputs": [
    {
     "data": {
      "text/plain": "[1, 3, 4, 5, 6]"
     },
     "execution_count": 680,
     "metadata": {},
     "output_type": "execute_result"
    }
   ]
  },
  {
   "cell_type": "markdown",
   "metadata": {
    "id": "3RTt3IpLcBZG",
    "pycharm": {
     "name": "#%% md\n"
    }
   },
   "source": [
    "**Questions#5**\n",
    "\n",
    "**Points:10**\n",
    "\n",
    "**Dictionaries**"
   ]
  },
  {
   "cell_type": "markdown",
   "metadata": {
    "id": "KjgadBzncBZG",
    "pycharm": {
     "name": "#%% md\n"
    }
   },
   "source": [
    "Using keys and indexing, grab the 'Python' from the following dictionaries:"
   ]
  },
  {
   "cell_type": "code",
   "metadata": {
    "collapsed": true,
    "id": "eGoKX-05cBZG",
    "pycharm": {
     "name": "#%%\n"
    }
   },
   "source": [
    "d = {'simple_key':'Python'}\n",
    "# Grab 'Python'\n",
    "print(d['simple_key'])"
   ],
   "execution_count": 681,
   "outputs": [
    {
     "name": "stdout",
     "output_type": "stream",
     "text": [
      "Python\n"
     ]
    }
   ]
  },
  {
   "cell_type": "code",
   "metadata": {
    "collapsed": true,
    "id": "U9K_FLBocBZH",
    "pycharm": {
     "name": "#%%\n"
    }
   },
   "source": [
    "d = {'k1':{'k2':'Programming'}}\n",
    "# Grab 'Programming'\n",
    "print(d['k1']['k2'])"
   ],
   "execution_count": 682,
   "outputs": [
    {
     "name": "stdout",
     "output_type": "stream",
     "text": [
      "Programming\n"
     ]
    }
   ]
  },
  {
   "cell_type": "code",
   "metadata": {
    "collapsed": true,
    "id": "KoUlByj7cBZH",
    "pycharm": {
     "name": "#%%\n"
    }
   },
   "source": [
    "# Getting a little tricker\n",
    "d = {'k1':[{'nest_key':['this is CS632',['Python']]}]}\n",
    "#Grab Python\n",
    "print(d['k1'][0]['nest_key'][1][0])"
   ],
   "execution_count": 683,
   "outputs": [
    {
     "name": "stdout",
     "output_type": "stream",
     "text": [
      "Python\n"
     ]
    }
   ]
  },
  {
   "cell_type": "code",
   "metadata": {
    "collapsed": true,
    "id": "QfaOrfKvcBZI",
    "pycharm": {
     "name": "#%%\n"
    }
   },
   "source": [
    "# This will be hard and annoying!\n",
    "d = {'k1':[1,2,{'k2':['this is tricky',{'tough':[1,2,['hello']]}]}]}\n",
    "\n",
    "print (d['k1'][2]['k2'][1]['tough'][2][0]) # for example hello"
   ],
   "execution_count": 684,
   "outputs": [
    {
     "name": "stdout",
     "output_type": "stream",
     "text": [
      "hello\n"
     ]
    }
   ]
  },
  {
   "cell_type": "markdown",
   "metadata": {
    "id": "Xk84ULBEcBZJ",
    "pycharm": {
     "name": "#%% md\n"
    }
   },
   "source": [
    "Is sorting a dictionary possible? Why or why not?"
   ]
  },
  {
   "cell_type": "markdown",
   "source": [
    " We can't sort a dictionary because it contains keys and values .Dictionaries are inherently orderless. Other types, such as lists and tuples, are not."
   ],
   "metadata": {
    "collapsed": false,
    "pycharm": {
     "name": "#%% md\n"
    }
   }
  },
  {
   "cell_type": "markdown",
   "metadata": {
    "id": "iozXKIu9cBZJ",
    "pycharm": {
     "name": "#%% md\n"
    }
   },
   "source": [
    "**Question#6**\n",
    "\n",
    "**Points: 5**\n",
    "\n",
    "**Tuples**"
   ]
  },
  {
   "cell_type": "markdown",
   "metadata": {
    "id": "eqX8TWt_cBZK",
    "pycharm": {
     "name": "#%% md\n"
    }
   },
   "source": [
    "What is the major difference between tuples and lists?<br><br>\n",
    "tuples are immutable and lists are mutable"
   ]
  },
  {
   "cell_type": "markdown",
   "metadata": {
    "id": "Plrl6LBMcBZM",
    "pycharm": {
     "name": "#%% md\n"
    }
   },
   "source": [
    "How do you create a tuple?<br><br>\n",
    "A tuple is created by placing all the elements inside parentheses (), separated by commas."
   ]
  },
  {
   "cell_type": "markdown",
   "metadata": {
    "id": "Cy2trzRNcBZM",
    "pycharm": {
     "name": "#%% md\n"
    }
   },
   "source": [
    "**Question#7**\n",
    "\n",
    "**Points:5**\n",
    "\n",
    "**Sets**"
   ]
  },
  {
   "cell_type": "markdown",
   "metadata": {
    "id": "NRc8xn7JcBZN",
    "pycharm": {
     "name": "#%% md\n"
    }
   },
   "source": [
    "What is unique about a set?<br><br>\n",
    "set contains only unique items and is immutable"
   ]
  },
  {
   "cell_type": "markdown",
   "metadata": {
    "id": "Y2mSJT7bcBZO",
    "pycharm": {
     "name": "#%% md\n"
    }
   },
   "source": [
    "Use a set to find the unique values of the list below:"
   ]
  },
  {
   "cell_type": "code",
   "metadata": {
    "collapsed": true,
    "id": "y7phszYycBZO",
    "pycharm": {
     "name": "#%%\n"
    }
   },
   "source": [
    "list5 = [1,2,2,33,4,4,11,22,3,3,2]\n",
    "print(set(list5))"
   ],
   "execution_count": 685,
   "outputs": [
    {
     "name": "stdout",
     "output_type": "stream",
     "text": [
      "{1, 2, 33, 4, 3, 11, 22}\n"
     ]
    }
   ]
  },
  {
   "cell_type": "markdown",
   "metadata": {
    "id": "ot0FnHF0cBZP",
    "pycharm": {
     "name": "#%% md\n"
    }
   },
   "source": [
    "**Questions#8**\n",
    "\n",
    "**Points:5**\n",
    "\n",
    "**Booleans**"
   ]
  },
  {
   "cell_type": "markdown",
   "metadata": {
    "id": "B02AHvQycBZP",
    "pycharm": {
     "name": "#%% md\n"
    }
   },
   "source": [
    "What will be the resulting Boolean of the following pieces of code (answer fist then check by typing it in!)"
   ]
  },
  {
   "cell_type": "code",
   "metadata": {
    "collapsed": true,
    "id": "9eMthx1FcBZQ",
    "pycharm": {
     "name": "#%%\n"
    }
   },
   "source": [
    "# What the outcome? Answear: False\n",
    "print(2 > 3)"
   ],
   "execution_count": 686,
   "outputs": [
    {
     "name": "stdout",
     "output_type": "stream",
     "text": [
      "False\n"
     ]
    }
   ]
  },
  {
   "cell_type": "markdown",
   "metadata": {
    "id": "-8x2xVdjyzdD",
    "pycharm": {
     "name": "#%% md\n"
    }
   },
   "source": [
    "**Question#9**\n",
    "\n",
    "**Points:10**\n",
    "\n",
    "**Use <code>for</code>, .split(), and <code>if</code> to create a Statement that will print out words that start with 's':**"
   ]
  },
  {
   "cell_type": "code",
   "metadata": {
    "id": "fDb9EqDNy7rm",
    "pycharm": {
     "name": "#%%\n"
    }
   },
   "source": [
    "st = 'Print only the words that start with s in this sentence'"
   ],
   "execution_count": 687,
   "outputs": []
  },
  {
   "cell_type": "code",
   "metadata": {
    "id": "Fy_t7c1xzEEq",
    "pycharm": {
     "name": "#%%\n"
    }
   },
   "source": [
    "#Code here\n",
    "for words in st.split():\n",
    "    if words.startswith(\"s\"):\n",
    "        print(words)"
   ],
   "execution_count": 688,
   "outputs": [
    {
     "name": "stdout",
     "output_type": "stream",
     "text": [
      "start\n",
      "s\n",
      "sentence\n"
     ]
    }
   ]
  },
  {
   "cell_type": "markdown",
   "metadata": {
    "id": "2t73nGAny8j0",
    "pycharm": {
     "name": "#%% md\n"
    }
   },
   "source": [
    "**Question#10**\n",
    "\n",
    "**Points:10**\n",
    "\n",
    "**Use range() to print all the even numbers from 0 to 10.**"
   ]
  },
  {
   "cell_type": "code",
   "metadata": {
    "id": "eV4nbsPqz1WH",
    "pycharm": {
     "name": "#%%\n"
    }
   },
   "source": [
    "#Code Here\n",
    "for i in range(0,11):\n",
    "    print(i)"
   ],
   "execution_count": 689,
   "outputs": [
    {
     "name": "stdout",
     "output_type": "stream",
     "text": [
      "0\n",
      "1\n",
      "2\n",
      "3\n",
      "4\n",
      "5\n",
      "6\n",
      "7\n",
      "8\n",
      "9\n",
      "10\n"
     ]
    }
   ]
  },
  {
   "cell_type": "markdown",
   "metadata": {
    "id": "3q_dzTq9z7iL",
    "pycharm": {
     "name": "#%% md\n"
    }
   },
   "source": [
    "**Question#11**\n",
    "\n",
    "**Points: 10**\n",
    "\n",
    "**Check the length of each word in the string and if the length of a word is even print \"even!\"**"
   ]
  },
  {
   "cell_type": "code",
   "metadata": {
    "id": "N5mzQZGA0I4w",
    "pycharm": {
     "name": "#%%\n"
    }
   },
   "source": [
    "st = 'Print every word in this sentence that has an even number of letters'\n"
   ],
   "execution_count": 690,
   "outputs": []
  },
  {
   "cell_type": "code",
   "metadata": {
    "id": "meLXKhoF0RTY",
    "pycharm": {
     "name": "#%%\n"
    }
   },
   "source": [
    "#Code in this cell\n",
    "wor = st.split()\n",
    "for i in range(1,len(wor)):\n",
    "    if(len(wor[i]) % 2 == 0):\n",
    "        print(wor[i],\" even!\")"
   ],
   "execution_count": 691,
   "outputs": [
    {
     "name": "stdout",
     "output_type": "stream",
     "text": [
      "word  even!\n",
      "in  even!\n",
      "this  even!\n",
      "sentence  even!\n",
      "that  even!\n",
      "an  even!\n",
      "even  even!\n",
      "number  even!\n",
      "of  even!\n"
     ]
    }
   ]
  },
  {
   "cell_type": "markdown",
   "metadata": {
    "id": "5Eb3WhLJ0Sei",
    "pycharm": {
     "name": "#%% md\n"
    }
   },
   "source": [
    "**Question#12** \n",
    "\n",
    "**Points : 10**\n",
    "\n",
    "**Write a program that prints the integers from 1 to 100. But for multiples of three print \"3*\" instead of the number, and for the multiples of five print \"5*\". For numbers which are multiples of both three and five print \"3* 5*\".**"
   ]
  },
  {
   "cell_type": "code",
   "metadata": {
    "id": "g8jEoy2y0eob",
    "pycharm": {
     "name": "#%%\n"
    }
   },
   "source": [
    "for i in range(1,101):\n",
    "\n",
    "    if(i % 3 == 0 and i % 5 == 0):\n",
    "        print(\"3* 5*\")\n",
    "    elif(i % 5 == 0):\n",
    "        print(\"5*\")\n",
    "    elif(i % 3 == 0):\n",
    "        print(\"3*\")\n",
    "\n",
    "    else:\n",
    "        print(i)"
   ],
   "execution_count": 692,
   "outputs": [
    {
     "name": "stdout",
     "output_type": "stream",
     "text": [
      "1\n",
      "2\n",
      "3*\n",
      "4\n",
      "5*\n",
      "3*\n",
      "7\n",
      "8\n",
      "3*\n",
      "5*\n",
      "11\n",
      "3*\n",
      "13\n",
      "14\n",
      "3* 5*\n",
      "16\n",
      "17\n",
      "3*\n",
      "19\n",
      "5*\n",
      "3*\n",
      "22\n",
      "23\n",
      "3*\n",
      "5*\n",
      "26\n",
      "3*\n",
      "28\n",
      "29\n",
      "3* 5*\n",
      "31\n",
      "32\n",
      "3*\n",
      "34\n",
      "5*\n",
      "3*\n",
      "37\n",
      "38\n",
      "3*\n",
      "5*\n",
      "41\n",
      "3*\n",
      "43\n",
      "44\n",
      "3* 5*\n",
      "46\n",
      "47\n",
      "3*\n",
      "49\n",
      "5*\n",
      "3*\n",
      "52\n",
      "53\n",
      "3*\n",
      "5*\n",
      "56\n",
      "3*\n",
      "58\n",
      "59\n",
      "3* 5*\n",
      "61\n",
      "62\n",
      "3*\n",
      "64\n",
      "5*\n",
      "3*\n",
      "67\n",
      "68\n",
      "3*\n",
      "5*\n",
      "71\n",
      "3*\n",
      "73\n",
      "74\n",
      "3* 5*\n",
      "76\n",
      "77\n",
      "3*\n",
      "79\n",
      "5*\n",
      "3*\n",
      "82\n",
      "83\n",
      "3*\n",
      "5*\n",
      "86\n",
      "3*\n",
      "88\n",
      "89\n",
      "3* 5*\n",
      "91\n",
      "92\n",
      "3*\n",
      "94\n",
      "5*\n",
      "3*\n",
      "97\n",
      "98\n",
      "3*\n",
      "5*\n"
     ]
    }
   ]
  }
 ]
}